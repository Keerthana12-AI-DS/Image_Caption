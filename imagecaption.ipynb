{
  "cells": [
    {
      "cell_type": "markdown",
      "metadata": {
        "id": "view-in-github",
        "colab_type": "text"
      },
      "source": [
        "<a href=\"https://colab.research.google.com/github/Keerthana12-AI-DS/Image_Caption/blob/main/imagecaption.ipynb\" target=\"_parent\"><img src=\"https://colab.research.google.com/assets/colab-badge.svg\" alt=\"Open In Colab\"/></a>"
      ]
    },
    {
      "cell_type": "code",
      "source": [
        "# Install nbstripout\n",
        "!pip install nbstripout\n",
        "\n",
        "# Install the git filter to strip outputs and widgets on commit\n",
        "!nbstripout --install\n"
      ],
      "metadata": {
        "colab": {
          "base_uri": "https://localhost:8080/"
        },
        "id": "dAGth0SmBjRn",
        "outputId": "c6f0cf60-b20e-4c26-f504-832f5ef4f485"
      },
      "execution_count": null,
      "outputs": [
        {
          "output_type": "stream",
          "name": "stdout",
          "text": [
            "Collecting nbstripout\n",
            "  Downloading nbstripout-0.8.1-py2.py3-none-any.whl.metadata (19 kB)\n",
            "Requirement already satisfied: nbformat in /usr/local/lib/python3.12/dist-packages (from nbstripout) (5.10.4)\n",
            "Requirement already satisfied: fastjsonschema>=2.15 in /usr/local/lib/python3.12/dist-packages (from nbformat->nbstripout) (2.21.2)\n",
            "Requirement already satisfied: jsonschema>=2.6 in /usr/local/lib/python3.12/dist-packages (from nbformat->nbstripout) (4.25.1)\n",
            "Requirement already satisfied: jupyter-core!=5.0.*,>=4.12 in /usr/local/lib/python3.12/dist-packages (from nbformat->nbstripout) (5.8.1)\n",
            "Requirement already satisfied: traitlets>=5.1 in /usr/local/lib/python3.12/dist-packages (from nbformat->nbstripout) (5.7.1)\n",
            "Requirement already satisfied: attrs>=22.2.0 in /usr/local/lib/python3.12/dist-packages (from jsonschema>=2.6->nbformat->nbstripout) (25.3.0)\n",
            "Requirement already satisfied: jsonschema-specifications>=2023.03.6 in /usr/local/lib/python3.12/dist-packages (from jsonschema>=2.6->nbformat->nbstripout) (2025.9.1)\n",
            "Requirement already satisfied: referencing>=0.28.4 in /usr/local/lib/python3.12/dist-packages (from jsonschema>=2.6->nbformat->nbstripout) (0.36.2)\n",
            "Requirement already satisfied: rpds-py>=0.7.1 in /usr/local/lib/python3.12/dist-packages (from jsonschema>=2.6->nbformat->nbstripout) (0.27.1)\n",
            "Requirement already satisfied: platformdirs>=2.5 in /usr/local/lib/python3.12/dist-packages (from jupyter-core!=5.0.*,>=4.12->nbformat->nbstripout) (4.4.0)\n",
            "Requirement already satisfied: typing-extensions>=4.4.0 in /usr/local/lib/python3.12/dist-packages (from referencing>=0.28.4->jsonschema>=2.6->nbformat->nbstripout) (4.15.0)\n",
            "Downloading nbstripout-0.8.1-py2.py3-none-any.whl (16 kB)\n",
            "Installing collected packages: nbstripout\n",
            "Successfully installed nbstripout-0.8.1\n",
            "fatal: --local can only be used inside a git repository\n",
            "Installation failed: not a git repository!\n"
          ]
        }
      ]
    },
    {
      "cell_type": "code",
      "execution_count": null,
      "metadata": {
        "id": "J5-3R50f8Wi1"
      },
      "outputs": [],
      "source": [
        "import os\n",
        "import warnings\n",
        "warnings.filterwarnings('ignore')\n",
        "import numpy as np\n",
        "import matplotlib.pyplot as plt\n",
        "import pandas as pd\n",
        "import seaborn as sns\n",
        "import tensorflow as tf\n",
        "from tensorflow.keras.applications.inception_v3 import InceptionV3\n",
        "from tensorflow.keras.preprocessing.image import img_to_array, load_img\n",
        "from tensorflow.keras.preprocessing.text import Tokenizer\n",
        "from tensorflow.keras.preprocessing.sequence import pad_sequences\n",
        "from tensorflow.keras.utils import to_categorical, plot_model\n",
        "from tensorflow.keras.models import Model, load_model\n",
        "from tensorflow.keras.layers import Input, Dense, LSTM, Embedding, add\n",
        "from tensorflow.keras.layers import Flatten, Dropout, BatchNormalization\n",
        "from tensorflow.keras.optimizers import Adam\n",
        "from tensorflow.keras.callbacks import EarlyStopping, LearningRateScheduler\n",
        "from sklearn.model_selection import train_test_split\n",
        "from PIL import Image\n",
        "from tqdm import tqdm_notebook\n",
        "from collections import Counter"
      ]
    },
    {
      "cell_type": "code",
      "source": [
        "from google.colab import files\n",
        "uploaded = files.upload()"
      ],
      "metadata": {
        "colab": {
          "base_uri": "https://localhost:8080/",
          "height": 38
        },
        "id": "wtegZ5g4k3u2",
        "outputId": "5565ea4a-0568-453b-d9e3-95a46ec6cbfd"
      },
      "execution_count": null,
      "outputs": [
        {
          "output_type": "display_data",
          "data": {
            "text/plain": [
              "<IPython.core.display.HTML object>"
            ],
            "text/html": [
              "\n",
              "     <input type=\"file\" id=\"files-1ac10505-391f-4be6-bcdf-7c2975c5fb11\" name=\"files[]\" multiple disabled\n",
              "        style=\"border:none\" />\n",
              "     <output id=\"result-1ac10505-391f-4be6-bcdf-7c2975c5fb11\">\n",
              "      Upload widget is only available when the cell has been executed in the\n",
              "      current browser session. Please rerun this cell to enable.\n",
              "      </output>\n",
              "      <script>// Copyright 2017 Google LLC\n",
              "//\n",
              "// Licensed under the Apache License, Version 2.0 (the \"License\");\n",
              "// you may not use this file except in compliance with the License.\n",
              "// You may obtain a copy of the License at\n",
              "//\n",
              "//      http://www.apache.org/licenses/LICENSE-2.0\n",
              "//\n",
              "// Unless required by applicable law or agreed to in writing, software\n",
              "// distributed under the License is distributed on an \"AS IS\" BASIS,\n",
              "// WITHOUT WARRANTIES OR CONDITIONS OF ANY KIND, either express or implied.\n",
              "// See the License for the specific language governing permissions and\n",
              "// limitations under the License.\n",
              "\n",
              "/**\n",
              " * @fileoverview Helpers for google.colab Python module.\n",
              " */\n",
              "(function(scope) {\n",
              "function span(text, styleAttributes = {}) {\n",
              "  const element = document.createElement('span');\n",
              "  element.textContent = text;\n",
              "  for (const key of Object.keys(styleAttributes)) {\n",
              "    element.style[key] = styleAttributes[key];\n",
              "  }\n",
              "  return element;\n",
              "}\n",
              "\n",
              "// Max number of bytes which will be uploaded at a time.\n",
              "const MAX_PAYLOAD_SIZE = 100 * 1024;\n",
              "\n",
              "function _uploadFiles(inputId, outputId) {\n",
              "  const steps = uploadFilesStep(inputId, outputId);\n",
              "  const outputElement = document.getElementById(outputId);\n",
              "  // Cache steps on the outputElement to make it available for the next call\n",
              "  // to uploadFilesContinue from Python.\n",
              "  outputElement.steps = steps;\n",
              "\n",
              "  return _uploadFilesContinue(outputId);\n",
              "}\n",
              "\n",
              "// This is roughly an async generator (not supported in the browser yet),\n",
              "// where there are multiple asynchronous steps and the Python side is going\n",
              "// to poll for completion of each step.\n",
              "// This uses a Promise to block the python side on completion of each step,\n",
              "// then passes the result of the previous step as the input to the next step.\n",
              "function _uploadFilesContinue(outputId) {\n",
              "  const outputElement = document.getElementById(outputId);\n",
              "  const steps = outputElement.steps;\n",
              "\n",
              "  const next = steps.next(outputElement.lastPromiseValue);\n",
              "  return Promise.resolve(next.value.promise).then((value) => {\n",
              "    // Cache the last promise value to make it available to the next\n",
              "    // step of the generator.\n",
              "    outputElement.lastPromiseValue = value;\n",
              "    return next.value.response;\n",
              "  });\n",
              "}\n",
              "\n",
              "/**\n",
              " * Generator function which is called between each async step of the upload\n",
              " * process.\n",
              " * @param {string} inputId Element ID of the input file picker element.\n",
              " * @param {string} outputId Element ID of the output display.\n",
              " * @return {!Iterable<!Object>} Iterable of next steps.\n",
              " */\n",
              "function* uploadFilesStep(inputId, outputId) {\n",
              "  const inputElement = document.getElementById(inputId);\n",
              "  inputElement.disabled = false;\n",
              "\n",
              "  const outputElement = document.getElementById(outputId);\n",
              "  outputElement.innerHTML = '';\n",
              "\n",
              "  const pickedPromise = new Promise((resolve) => {\n",
              "    inputElement.addEventListener('change', (e) => {\n",
              "      resolve(e.target.files);\n",
              "    });\n",
              "  });\n",
              "\n",
              "  const cancel = document.createElement('button');\n",
              "  inputElement.parentElement.appendChild(cancel);\n",
              "  cancel.textContent = 'Cancel upload';\n",
              "  const cancelPromise = new Promise((resolve) => {\n",
              "    cancel.onclick = () => {\n",
              "      resolve(null);\n",
              "    };\n",
              "  });\n",
              "\n",
              "  // Wait for the user to pick the files.\n",
              "  const files = yield {\n",
              "    promise: Promise.race([pickedPromise, cancelPromise]),\n",
              "    response: {\n",
              "      action: 'starting',\n",
              "    }\n",
              "  };\n",
              "\n",
              "  cancel.remove();\n",
              "\n",
              "  // Disable the input element since further picks are not allowed.\n",
              "  inputElement.disabled = true;\n",
              "\n",
              "  if (!files) {\n",
              "    return {\n",
              "      response: {\n",
              "        action: 'complete',\n",
              "      }\n",
              "    };\n",
              "  }\n",
              "\n",
              "  for (const file of files) {\n",
              "    const li = document.createElement('li');\n",
              "    li.append(span(file.name, {fontWeight: 'bold'}));\n",
              "    li.append(span(\n",
              "        `(${file.type || 'n/a'}) - ${file.size} bytes, ` +\n",
              "        `last modified: ${\n",
              "            file.lastModifiedDate ? file.lastModifiedDate.toLocaleDateString() :\n",
              "                                    'n/a'} - `));\n",
              "    const percent = span('0% done');\n",
              "    li.appendChild(percent);\n",
              "\n",
              "    outputElement.appendChild(li);\n",
              "\n",
              "    const fileDataPromise = new Promise((resolve) => {\n",
              "      const reader = new FileReader();\n",
              "      reader.onload = (e) => {\n",
              "        resolve(e.target.result);\n",
              "      };\n",
              "      reader.readAsArrayBuffer(file);\n",
              "    });\n",
              "    // Wait for the data to be ready.\n",
              "    let fileData = yield {\n",
              "      promise: fileDataPromise,\n",
              "      response: {\n",
              "        action: 'continue',\n",
              "      }\n",
              "    };\n",
              "\n",
              "    // Use a chunked sending to avoid message size limits. See b/62115660.\n",
              "    let position = 0;\n",
              "    do {\n",
              "      const length = Math.min(fileData.byteLength - position, MAX_PAYLOAD_SIZE);\n",
              "      const chunk = new Uint8Array(fileData, position, length);\n",
              "      position += length;\n",
              "\n",
              "      const base64 = btoa(String.fromCharCode.apply(null, chunk));\n",
              "      yield {\n",
              "        response: {\n",
              "          action: 'append',\n",
              "          file: file.name,\n",
              "          data: base64,\n",
              "        },\n",
              "      };\n",
              "\n",
              "      let percentDone = fileData.byteLength === 0 ?\n",
              "          100 :\n",
              "          Math.round((position / fileData.byteLength) * 100);\n",
              "      percent.textContent = `${percentDone}% done`;\n",
              "\n",
              "    } while (position < fileData.byteLength);\n",
              "  }\n",
              "\n",
              "  // All done.\n",
              "  yield {\n",
              "    response: {\n",
              "      action: 'complete',\n",
              "    }\n",
              "  };\n",
              "}\n",
              "\n",
              "scope.google = scope.google || {};\n",
              "scope.google.colab = scope.google.colab || {};\n",
              "scope.google.colab._files = {\n",
              "  _uploadFiles,\n",
              "  _uploadFilesContinue,\n",
              "};\n",
              "})(self);\n",
              "</script> "
            ]
          },
          "metadata": {}
        }
      ]
    },
    {
      "cell_type": "code",
      "execution_count": null,
      "metadata": {
        "id": "QO9XpiqtKnjx"
      },
      "outputs": [],
      "source": [
        "from google.colab import files\n",
        "uploaded = files.upload()  # select captions.txt and images.zip if you zipped your Images folder\n"
      ]
    },
    {
      "cell_type": "code",
      "source": [
        "from google.colab import drive\n",
        "drive.mount('/content/drive')\n",
        "images_directory = \"/content/drive/MyDrive/Flickr8k/Images\"\n",
        "captions_path = \"/content/captions.txt\"\n",
        "\n"
      ],
      "metadata": {
        "id": "FYudeZsNeWm-"
      },
      "execution_count": null,
      "outputs": []
    },
    {
      "cell_type": "code",
      "source": [
        "!unzip Images -d /content/images\n",
        "\n"
      ],
      "metadata": {
        "id": "71PFF5uLw2VU"
      },
      "execution_count": null,
      "outputs": []
    },
    {
      "cell_type": "code",
      "source": [
        "!file /content/Images.zip\n"
      ],
      "metadata": {
        "id": "bNcRcKC2zPF2"
      },
      "execution_count": null,
      "outputs": []
    },
    {
      "cell_type": "code",
      "source": [
        "!apt-get install -y p7zip-full\n",
        "!7z x /content/Images.zip -o/content/Images\n"
      ],
      "metadata": {
        "id": "bpz0MxouzoiD"
      },
      "execution_count": null,
      "outputs": []
    },
    {
      "cell_type": "code",
      "source": [
        "import os\n",
        "images_directory = \"/content/Images\"\n",
        "print(\"Images folder exists:\", os.path.exists(images_directory))\n",
        "print(\"Sample images:\", os.listdir(images_directory)[:5])\n"
      ],
      "metadata": {
        "id": "OYhcn_3gzuI4"
      },
      "execution_count": null,
      "outputs": []
    },
    {
      "cell_type": "code",
      "source": [
        "!ls \"/content\"   # or wherever your Images.zip is\n"
      ],
      "metadata": {
        "id": "hKIxmbOzpxsQ"
      },
      "execution_count": null,
      "outputs": []
    },
    {
      "cell_type": "code",
      "source": [
        "import os\n",
        "\n",
        "print(\"Images folder exists:\", os.path.exists(images_directory))\n",
        "print(\"Captions file exists:\", os.path.exists(captions_path))\n",
        "print(\"Sample images:\", os.listdir(images_directory)[:5])\n",
        "\n"
      ],
      "metadata": {
        "id": "JQN8-EHze7Hp"
      },
      "execution_count": null,
      "outputs": []
    },
    {
      "cell_type": "code",
      "source": [
        "def load_captions(file_path):\n",
        "    with open(file_path, 'r') as f:\n",
        "        captions = f.readlines()\n",
        "        captions = [caption.lower() for caption in captions[1:]]\n",
        "    return captions\n",
        "\n",
        "def tokenize_captions(captions):\n",
        "    tokenizer = Tokenizer()\n",
        "    tokenizer.fit_on_texts(captions)\n",
        "    return tokenizer\n",
        "\n",
        "captions = load_captions(captions_path)\n",
        "captions[:15:3]"
      ],
      "metadata": {
        "id": "Md1rZBo6e66_"
      },
      "execution_count": null,
      "outputs": []
    },
    {
      "cell_type": "code",
      "source": [
        "import re\n",
        "def clean_text(text):\n",
        "    text = re.sub(r'[^\\w\\s]', '', text)\n",
        "    text = re.sub(r'\\d+', '', text)\n",
        "    text = re.sub(r'\\s+', ' ', text).strip()\n",
        "    return text\n",
        "\n",
        "cleaned_captions = [clean_text(caption.split(',')[1]) for caption in captions]\n",
        "cleaned_captions[:15:2]"
      ],
      "metadata": {
        "id": "WRn8MsMbkz1z"
      },
      "execution_count": null,
      "outputs": []
    },
    {
      "cell_type": "code",
      "source": [
        "captions_IDs = []\n",
        "for i in range(len(cleaned_captions)):\n",
        "    item = captions[i].split(',')[0]+'\\t'+'start '+cleaned_captions[i]+' end\\n'\n",
        "    captions_IDs.append(item)\n",
        "\n",
        "captions_IDs[:20:3], len(captions_IDs)"
      ],
      "metadata": {
        "id": "uY8EJZlDkPTh"
      },
      "execution_count": null,
      "outputs": []
    },
    {
      "cell_type": "code",
      "source": [
        "import os\n",
        "import matplotlib.pyplot as plt\n",
        "from tensorflow.keras.preprocessing.image import load_img\n",
        "\n",
        "def visualaization(data, num_of_images):\n",
        "    captions_dictionary = {}\n",
        "    for item in data[100:100+(num_of_images)*5]:\n",
        "        image_id, caption = item.split('\\t')\n",
        "        image_id = image_id.strip()\n",
        "        if image_id not in captions_dictionary:\n",
        "            captions_dictionary[image_id] = []\n",
        "        captions_dictionary[image_id].append(caption)\n",
        "\n",
        "    count = 1\n",
        "    fig = plt.figure(figsize=(10,20))\n",
        "    for filename in list(captions_dictionary.keys()):\n",
        "        captions = captions_dictionary[filename]\n",
        "        image_path = os.path.join(images_directory, filename)\n",
        "\n",
        "        if not os.path.exists(image_path):\n",
        "            print(f\"Missing image: {filename}\")\n",
        "            continue\n",
        "\n",
        "        image_load = load_img(image_path, target_size=(199,199,3))\n",
        "        ax = fig.add_subplot(num_of_images,2,count,xticks=[],yticks=[])\n",
        "        ax.imshow(image_load)\n",
        "        count += 1\n",
        "\n",
        "        ax = fig.add_subplot(num_of_images,2,count)\n",
        "        plt.axis('off')\n",
        "        ax.plot()\n",
        "        ax.set_xlim(0,1)\n",
        "        ax.set_ylim(0,len(captions))\n",
        "        for i, caption in enumerate(captions):\n",
        "            ax.text(0,i,caption,fontsize=12)\n",
        "        count += 1\n",
        "    plt.show()\n"
      ],
      "metadata": {
        "id": "yX8Z4Dl3kPom"
      },
      "execution_count": null,
      "outputs": []
    },
    {
      "cell_type": "code",
      "source": [
        "# Get all filenames that actually exist\n",
        "existing_images = set(os.listdir(images_directory))\n",
        "\n",
        "# Filter captions_IDs to only include these images\n",
        "filtered_captions = [item for item in captions_IDs if item.split('\\t')[0].strip() in existing_images]\n",
        "\n",
        "# Now visualize\n",
        "visualaization(filtered_captions, 5)\n"
      ],
      "metadata": {
        "id": "lpUiGl-JkPrA"
      },
      "execution_count": null,
      "outputs": []
    },
    {
      "cell_type": "code",
      "source": [
        "def captions_length(data):\n",
        "    plt.figure(figsize=(15, 7), dpi=300)\n",
        "    sns.set_style('darkgrid')\n",
        "    sns.histplot(x=[len(x.split(' ')) for x in data], kde=True, binwidth=1)\n",
        "    plt.title('Captions length histogram', fontsize=15, fontweight='bold')\n",
        "    plt.xticks(fontweight='bold')\n",
        "    plt.yticks(fontweight='bold')\n",
        "    plt.xlabel('Length', fontweight='bold')\n",
        "    plt.ylabel('Freaquency', fontweight='bold')\n",
        "    plt.show()\n",
        "\n",
        "captions_length(cleaned_captions)"
      ],
      "metadata": {
        "id": "zVUMCxPDkPtW"
      },
      "execution_count": null,
      "outputs": []
    },
    {
      "cell_type": "code",
      "source": [
        "tokenizer = tokenize_captions(cleaned_captions)\n",
        "vocab_size = len(tokenizer.word_index) + 1\n",
        "vocab_size"
      ],
      "metadata": {
        "id": "R2-4lhgXkPvq"
      },
      "execution_count": null,
      "outputs": []
    },
    {
      "cell_type": "code",
      "source": [
        "all_image_ids = os.listdir(images_directory)\n",
        "\n",
        "train_image_ids, val_image_ids = train_test_split(all_image_ids, test_size=0.15, random_state=42)\n",
        "val_image_ids, test_image_ids = train_test_split(val_image_ids, test_size=0.1, random_state=42)\n",
        "\n",
        "train_captions, val_captions, test_captions = [], [], []\n",
        "for caption in captions_IDs:\n",
        "    image_id, _ = caption.split('\\t')\n",
        "\n",
        "    if image_id in train_image_ids:\n",
        "        train_captions.append(caption)\n",
        "\n",
        "    elif image_id in val_image_ids:\n",
        "        val_captions.append(caption)\n",
        "\n",
        "    elif image_id in test_image_ids:\n",
        "        test_captions.append(caption)\n",
        "\n",
        "    else:\n",
        "        print('Unknown image ID !')\n",
        "\n",
        "train_captions[0], val_captions[0], test_captions[0], len(train_captions)/5, len(val_captions)/5, len(test_captions)/5"
      ],
      "metadata": {
        "id": "vWHkiFEDkPyI"
      },
      "execution_count": null,
      "outputs": []
    },
    {
      "cell_type": "code",
      "source": [
        "def preprocess_image(image_path):\n",
        "    img = load_img(image_path, target_size=(299, 299))\n",
        "    img = img_to_array(img)\n",
        "    img = np.expand_dims(img, axis=0)\n",
        "    img = tf.keras.applications.inception_v3.preprocess_input(img)\n",
        "    return img\n",
        "\n",
        "def extract_image_features(model, image_path):\n",
        "    img = preprocess_image(image_path)\n",
        "    features = model.predict(img, verbose=0)\n",
        "    return features\n",
        "\n",
        "inception_v3_model = InceptionV3(weights = 'imagenet', input_shape=(299, 299, 3))\n",
        "inception_v3_model.layers.pop()\n",
        "inception_v3_model = Model(inputs=inception_v3_model.inputs, outputs=inception_v3_model.layers[-2].output)"
      ],
      "metadata": {
        "id": "wBuvkVkUkP0U"
      },
      "execution_count": null,
      "outputs": []
    },
    {
      "cell_type": "code",
      "source": [
        "from PIL import ImageFile\n",
        "ImageFile.LOAD_TRUNCATED_IMAGES = True\n",
        "train_image_features, val_image_features, test_image_features = {}, {}, {}  # A Dictionary to store image features with their corresponding IDs\n",
        "\n",
        "pbar = tqdm_notebook(total=len(all_image_ids), position=0, leave=True, colour='green')\n",
        "\n",
        "for caption in all_image_ids:\n",
        "    image_id = caption.split('\\t')[0]\n",
        "    image_path = os.path.join(images_directory, image_id)\n",
        "    image_features = extract_image_features(inception_v3_model, image_path) # Extracting features\n",
        "\n",
        "    if image_id in train_image_ids:\n",
        "        train_image_features[image_id] = image_features.flatten()  # Flattening the features\n",
        "        pbar.update(1)\n",
        "\n",
        "    elif image_id in val_image_ids:\n",
        "        val_image_features[image_id] = image_features.flatten()  # Flattening the features\n",
        "        pbar.update(1)\n",
        "\n",
        "    elif image_id in test_image_ids:\n",
        "        test_image_features[image_id] = image_features.flatten()  # Flattening the features\n",
        "        pbar.update(1)\n",
        "\n",
        "    else:\n",
        "        print('Unknown image ID !')\n",
        "\n",
        "pbar.close()"
      ],
      "metadata": {
        "id": "77Yv3mrVkP2p"
      },
      "execution_count": null,
      "outputs": []
    },
    {
      "cell_type": "code",
      "source": [
        "def data_generator(captions, image_features, tokenizer, max_caption_length, batch_size):\n",
        "    num_samples = len(captions)\n",
        "    image_ids = list(image_features.keys())\n",
        "    while True:\n",
        "        np.random.shuffle(image_ids)  # Shuffle image_ids for each epoch\n",
        "        for start_idx in range(0, num_samples, batch_size):\n",
        "            end_idx = min(start_idx + batch_size, num_samples)\n",
        "            X_images, X_captions, y = [], [], []\n",
        "            for caption in captions[start_idx:end_idx]:\n",
        "                image_id, caption_text = caption.split('\\t')\n",
        "                caption_text = caption_text.rstrip('\\n')\n",
        "                seq = tokenizer.texts_to_sequences([caption_text])[0] # Tokenizing the caption\n",
        "                for i in range(1, len(seq)):\n",
        "                    in_seq, out_seq = seq[:i], seq[i] # X_caption, Y\n",
        "                    in_seq = pad_sequences([in_seq], maxlen=max_caption_length)[0]\n",
        "                    out_seq = to_categorical([out_seq], num_classes=vocab_size)[0]\n",
        "                    X_images.append(image_features[image_id])\n",
        "                    X_captions.append(in_seq)\n",
        "                    y.append(out_seq)\n",
        "\n",
        "            yield [np.array(X_images), np.array(X_captions)], np.array(y)\n",
        "\n",
        "\n",
        "max_caption_length = max(len(caption.split()) for caption in cleaned_captions) + 1\n",
        "\n",
        "cnn_output_dim = inception_v3_model.output_shape[1] # 2048\n",
        "\n",
        "batch_size_train = 270\n",
        "batch_size_val = 150\n",
        "\n",
        "train_data_generator = data_generator(train_captions, train_image_features, tokenizer, max_caption_length, batch_size_train)\n",
        "val_data_generator = data_generator(val_captions, val_image_features, tokenizer, max_caption_length, batch_size_val)"
      ],
      "metadata": {
        "id": "4DTRvdo0kP5S"
      },
      "execution_count": null,
      "outputs": []
    },
    {
      "cell_type": "code",
      "source": [
        "def build_model(vocab_size, max_caption_length, cnn_output_dim):\n",
        "    input_image = Input(shape=(cnn_output_dim,), name='Features_Input')\n",
        "    fe1 = BatchNormalization()(input_image)\n",
        "    fe2 = Dense(256, activation='relu')(fe1) # Adding a Dense layer to the CNN output to match the decoder output size\n",
        "    fe3 = BatchNormalization()(fe2)\n",
        "\n",
        "    input_caption = Input(shape=(max_caption_length,), name='Sequence_Input')\n",
        "    se1 = Embedding(vocab_size, 256, mask_zero=True)(input_caption)\n",
        "    se2 = LSTM(256)(se1)\n",
        "\n",
        "    decoder1 = add([fe3, se2])\n",
        "    decoder2 = Dense(256, activation='relu')(decoder1)\n",
        "    outputs = Dense(vocab_size, activation='softmax', name='Output_Layer')(decoder2)\n",
        "\n",
        "    model = Model(inputs=[input_image, input_caption], outputs=outputs, name='Image_Captioning')\n",
        "    return model\n",
        "\n",
        "caption_model = build_model(vocab_size, max_caption_length, cnn_output_dim)\n",
        "\n",
        "optimizer = Adam(learning_rate=0.01, clipnorm=1.0)\n",
        "caption_model.compile(loss='categorical_crossentropy', optimizer=optimizer)\n",
        "\n",
        "caption_model.summary()"
      ],
      "metadata": {
        "id": "G0RHL4gP2Nxw"
      },
      "execution_count": null,
      "outputs": []
    },
    {
      "cell_type": "code",
      "source": [
        "def greedy_generator(image_features):\n",
        "    in_text = 'start '\n",
        "    for _ in range(max_caption_length):\n",
        "        sequence = tokenizer.texts_to_sequences([in_text])[0]\n",
        "        sequence = pad_sequences([sequence], maxlen=max_caption_length).reshape((1,max_caption_length))\n",
        "        prediction = caption_model.predict([image_features.reshape(1,cnn_output_dim), sequence], verbose=0)\n",
        "        idx = np.argmax(prediction)\n",
        "        word = tokenizer.index_word[idx]\n",
        "        in_text += ' ' + word\n",
        "        if word == 'end':\n",
        "            break\n",
        "\n",
        "    in_text = in_text.replace('start ', '')\n",
        "    in_text = in_text.replace(' end', '')\n",
        "\n",
        "    return in_text"
      ],
      "metadata": {
        "id": "Ymn2H_AN5xTW"
      },
      "execution_count": null,
      "outputs": []
    },
    {
      "cell_type": "code",
      "source": [
        "def beam_search_generator(image_features, K_beams = 3, log = False):\n",
        "    start = [tokenizer.word_index['start']]\n",
        "    start_word = [[start, 0.0]]\n",
        "    for _ in range(max_caption_length):\n",
        "        temp = []\n",
        "        for s in start_word:\n",
        "            sequence  = pad_sequences([s[0]], maxlen=max_caption_length).reshape((1,max_caption_length))\n",
        "            preds = caption_model.predict([image_features.reshape(1,cnn_output_dim), sequence], verbose=0)\n",
        "            word_preds = np.argsort(preds[0])[-K_beams:]\n",
        "            for w in word_preds:\n",
        "                next_cap, prob = s[0][:], s[1]\n",
        "                next_cap.append(w)\n",
        "                if log:\n",
        "                    prob += np.log(preds[0][w]) # assign a probability to each K words\n",
        "                else:\n",
        "                    prob += preds[0][w]\n",
        "                temp.append([next_cap, prob])\n",
        "\n",
        "        start_word = temp\n",
        "        start_word = sorted(start_word, reverse=False, key=lambda l: l[1])\n",
        "        start_word = start_word[-K_beams:]\n",
        "\n",
        "    start_word = start_word[-1][0]\n",
        "    captions_ = [tokenizer.index_word[i] for i in start_word]\n",
        "    final_caption = []\n",
        "    for i in captions_:\n",
        "        if i != 'end':\n",
        "            final_caption.append(i)\n",
        "        else:\n",
        "            break\n",
        "\n",
        "    final_caption = ' '.join(final_caption[1:])\n",
        "    return final_caption"
      ],
      "metadata": {
        "id": "OOWuC-5d6PNw"
      },
      "execution_count": null,
      "outputs": []
    },
    {
      "cell_type": "code",
      "source": [
        "def BLEU_score(actual, greedy, beam_search):\n",
        "    score_greedy_1 = corpus_bleu(actual, greedy, weights=(0.3, 0.3, 0.3, 0))\n",
        "    score_greedy_2 = corpus_bleu(actual, greedy, weights=(0.25, 0.25, 0.25, 0.25))\n",
        "    score_BS_1 = corpus_bleu(actual, beam_search, weights=(0.3, 0.3, 0.3, 0))\n",
        "    score_BS_2 = corpus_bleu(actual, beam_search, weights=(0.25, 0.25, 0.25, 0.25))\n",
        "\n",
        "    return [\n",
        "        (f'BLEU-2 Greedy: {round(score_BS_2, 5)}'),\n",
        "        (f'BLEU-1 Greedy: {round(score_BS_1, 5)}'),\n",
        "        (f'Greedy: {greedy[0]}'),\n",
        "        (f'BLEU-2 Beam Search: {round(score_greedy_2, 5)}'),\n",
        "        (f'BLEU-1 Beam Search: {round(score_greedy_1, 5)}'),\n",
        "        (f'Beam Search:  {beam_search[0]}')\n",
        "    ]"
      ],
      "metadata": {
        "id": "zDp7cVzj6SnE"
      },
      "execution_count": null,
      "outputs": []
    },
    {
      "cell_type": "code",
      "source": [
        "generated_captions = {}\n",
        "\n",
        "pbar = tqdm_notebook(total=len(test_image_features), position=0, leave=True, colour='green')\n",
        "for image_id in test_image_features:\n",
        "    cap = greedy_generator(test_image_features[image_id])\n",
        "    generated_captions[image_id] = cap\n",
        "    pbar.update(1)\n",
        "\n",
        "pbar.close()"
      ],
      "metadata": {
        "id": "ywXtQak06V8U"
      },
      "execution_count": null,
      "outputs": []
    },
    {
      "cell_type": "code",
      "source": [
        "# -------------------------------\n",
        "# Full working visualization example\n",
        "# -------------------------------\n",
        "\n",
        "import os\n",
        "import numpy as np\n",
        "import matplotlib.pyplot as plt\n",
        "from tensorflow.keras.preprocessing.image import load_img\n",
        "from nltk.translate.bleu_score import corpus_bleu\n",
        "\n",
        "# -------------------------------\n",
        "# 1. Set your image folder (change if needed)\n",
        "# -------------------------------\n",
        "images_directory = \"/content/Images\"  # folder containing images\n",
        "\n",
        "# -------------------------------\n",
        "# 2. Example data\n",
        "# -------------------------------\n",
        "# Let's assume filenames exist in your folder\n",
        "all_images = os.listdir(images_directory)\n",
        "all_images = [img for img in all_images if img.endswith('.jpg') or img.endswith('.jpeg')]\n",
        "\n",
        "# Fake captions\n",
        "test_actual_captions = {img: [\"start a dog is running end\", \"start a dog plays end\"] for img in all_images}\n",
        "generated_captions = {img: \"a dog runs\" for img in all_images}\n",
        "\n",
        "# Dummy beam search generator\n",
        "def beam_search_generator(filename):\n",
        "    return \"a dog is running\"\n",
        "\n",
        "# BLEU score function\n",
        "def BLEU_score(actual, greedy, beam_search):\n",
        "    score_greedy_1 = corpus_bleu(actual, greedy, weights=(0.3, 0.3, 0.3, 0))\n",
        "    score_greedy_2 = corpus_bleu(actual, greedy, weights=(0.25, 0.25, 0.25, 0.25))\n",
        "    score_BS_1 = corpus_bleu(actual, beam_search, weights=(0.3, 0.3, 0.3, 0))\n",
        "    score_BS_2 = corpus_bleu(actual, beam_search, weights=(0.25, 0.25, 0.25, 0.25))\n",
        "    return [f\"Greedy-1: {score_greedy_1:.2f}\", f\"Greedy-2: {score_greedy_2:.2f}\",\n",
        "            f\"BeamSearch-1: {score_BS_1:.2f}\", f\"BeamSearch-2: {score_BS_2:.2f}\"]\n",
        "\n",
        "# -------------------------------\n",
        "# 3. Visualization function\n",
        "# -------------------------------\n",
        "def visualization(data, greedy_caps, beamS_generator, evaluator, num_of_images):\n",
        "    keys = list(data.keys())\n",
        "    images = [np.random.choice(keys) for _ in range(num_of_images)]  # Random selection\n",
        "    count = 1\n",
        "    fig = plt.figure(figsize=(8, 20))\n",
        "\n",
        "    for filename in images:\n",
        "        actual_cap = data[filename]\n",
        "        actual_cap = [x.replace(\"start \", \"\").replace(\" end\", \"\") for x in actual_cap]\n",
        "\n",
        "        greedy_cap = greedy_caps[filename]\n",
        "        beamS_cap = beamS_generator(filename)\n",
        "\n",
        "        caps_with_score = evaluator(actual_cap, [greedy_cap]*len(actual_cap), [beamS_cap]*len(actual_cap))\n",
        "\n",
        "        image_path = os.path.join(images_directory, filename)\n",
        "        if not os.path.exists(image_path):\n",
        "            print(\"Missing image:\", filename)\n",
        "            continue\n",
        "\n",
        "        image_load = load_img(image_path, target_size=(199,199,3))\n",
        "        ax = fig.add_subplot(num_of_images, 2, count, xticks=[], yticks=[])\n",
        "        ax.imshow(image_load)\n",
        "        count += 1\n",
        "\n",
        "        ax = fig.add_subplot(num_of_images, 2, count)\n",
        "        plt.axis('off')\n",
        "        ax.plot()\n",
        "        ax.set_xlim(0, 1)\n",
        "        ax.set_ylim(0, len(caps_with_score))\n",
        "        for i, text in enumerate(caps_with_score):\n",
        "            ax.text(0, i, text, fontsize=10)\n",
        "        count += 1\n",
        "\n",
        "    plt.show()\n",
        "\n",
        "# -------------------------------\n",
        "# 4. Run visualization\n",
        "# -------------------------------\n",
        "visualization(test_actual_captions, generated_captions, beam_search_generator, BLEU_score, 5)\n"
      ],
      "metadata": {
        "id": "1TKbRYPg-wGJ"
      },
      "execution_count": null,
      "outputs": []
    }
  ],
  "metadata": {
    "colab": {
      "provenance": [],
      "mount_file_id": "1OjH3aVEP1ixNu_1e02LGTBMjZp8uQ2IQ",
      "authorship_tag": "ABX9TyPgDDSVd60VCvHT4SaLA1Be",
      "include_colab_link": true
    },
    "kernelspec": {
      "display_name": "Python 3",
      "name": "python3"
    },
    "language_info": {
      "name": "python"
    }
  },
  "nbformat": 4,
  "nbformat_minor": 0
}